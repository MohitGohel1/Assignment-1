{
 "cells": [
  {
   "cell_type": "code",
   "execution_count": 2,
   "id": "67342168-7467-4613-8bc5-4e244eef5c86",
   "metadata": {},
   "outputs": [],
   "source": [
    "# Who developed python programming language?\n",
    "# Ans:- Guido van Rossum."
   ]
  },
  {
   "cell_type": "code",
   "execution_count": 4,
   "id": "e4928a68-39d1-4b51-9314-d6047b01804d",
   "metadata": {},
   "outputs": [],
   "source": [
    "# Which type of programming does python support?\n",
    "# Ans:- python supports procedural programming, Functional Programming, Object-oriented programming and Scripting programming."
   ]
  },
  {
   "cell_type": "code",
   "execution_count": 5,
   "id": "14251443-3bef-4943-a857-ea97e1002928",
   "metadata": {},
   "outputs": [],
   "source": [
    "# is python case sensitive when dealing with identifiers?\n",
    "# Ans:- Yes."
   ]
  },
  {
   "cell_type": "code",
   "execution_count": 6,
   "id": "51546ef7-80bf-4ecf-afcc-e0412d87e470",
   "metadata": {},
   "outputs": [],
   "source": [
    "# What is the correct extension of the python file?\n",
    "# Ans:- .py"
   ]
  },
  {
   "cell_type": "code",
   "execution_count": 7,
   "id": "adccf30e-3415-4668-b0ed-8c15d51a0c65",
   "metadata": {},
   "outputs": [],
   "source": [
    "# is python code compiled or interpreted?\n",
    "# Ans:- interpreted."
   ]
  },
  {
   "cell_type": "code",
   "execution_count": 8,
   "id": "1124b8a8-0323-4ac3-a5f4-2890cf3d7406",
   "metadata": {},
   "outputs": [],
   "source": [
    "# Name a few blocks of code used to define in python language?\n",
    "# Ans:- if statement, While loop, for loop, Function definition, Try-except block."
   ]
  },
  {
   "cell_type": "code",
   "execution_count": 9,
   "id": "fba02aa3-4641-419e-9ab5-af5150845a0b",
   "metadata": {},
   "outputs": [],
   "source": [
    "# State a character used to give single-line comments in python?\n",
    "# Ans:- #"
   ]
  },
  {
   "cell_type": "code",
   "execution_count": 10,
   "id": "1d59acd0-390e-4b0f-a63b-2ad15d5f07dd",
   "metadata": {},
   "outputs": [],
   "source": [
    "# Menttion functions which can help us to find the version of python that we are currently working on?\n",
    "# Ans:- by using 'sys' module sys.version and by using 'platform' module platform.python_version() "
   ]
  },
  {
   "cell_type": "code",
   "execution_count": 12,
   "id": "cb0185b4-98bb-436c-9540-a038caf0e062",
   "metadata": {},
   "outputs": [],
   "source": [
    "# Python supports the creation of anonymous functions at runtime, using a construct called\n",
    "# Ans:- lambda function"
   ]
  },
  {
   "cell_type": "code",
   "execution_count": 13,
   "id": "e8532464-45d5-4cf6-a06f-f8eb09b80bfc",
   "metadata": {},
   "outputs": [],
   "source": [
    "# What does pip stand for python?\n",
    "# Ans:- preferred installer program or pip installs packages."
   ]
  },
  {
   "cell_type": "code",
   "execution_count": 16,
   "id": "878811ae-9a17-4b27-a5cd-249b029964ee",
   "metadata": {},
   "outputs": [],
   "source": [
    "# Mention few built-in functions in python?\n",
    "# Ans:- print(), len(),type(), int(),str(), bool(), float() etc."
   ]
  },
  {
   "cell_type": "code",
   "execution_count": 17,
   "id": "e6bedfb3-6892-4b17-88b9-de4f95e332a9",
   "metadata": {},
   "outputs": [],
   "source": [
    "# What is the maximum possible length of an identifier in python?\n",
    "# Ans:- maximum of 79 characters."
   ]
  },
  {
   "cell_type": "code",
   "execution_count": 18,
   "id": "fd7f36f3-f14c-43bd-8aab-9d0910b8565a",
   "metadata": {},
   "outputs": [],
   "source": [
    "# What are benefits of using python?\n",
    "# Ans:- easy to use and learn, high level programming language, large number of libraries, cross platform compatibility, dynamic typing etc."
   ]
  },
  {
   "cell_type": "code",
   "execution_count": 19,
   "id": "c53292b1-5ebd-4292-bd83-3345ef1d4911",
   "metadata": {},
   "outputs": [],
   "source": [
    "# how is memory managed in python?\n",
    "# Ans:- by python private heap space"
   ]
  },
  {
   "cell_type": "code",
   "execution_count": 22,
   "id": "ccf9fe0f-895c-4146-8407-8008dcb484ca",
   "metadata": {},
   "outputs": [],
   "source": [
    "# how to install python on windows and set path variables?\n",
    "# Ans:- \n",
    "\n",
    "# 1.Right-clicking This PC and going to Properties.\n",
    "\n",
    "# 2.Clicking on the Advanced system settings in the menu on the left.\n",
    "\n",
    "# 3.Clicking on the Environment Variables button on the bottom right.\n",
    "\n",
    "# 4.In the System variables section, selecting the Path variable and clicking on Edit. The next screen will show all the directories that are currently a part of the PATH variable.\n",
    "\n",
    "# 5.Clicking on New and entering Python’s install directory.\"\"\""
   ]
  },
  {
   "cell_type": "code",
   "execution_count": 23,
   "id": "eb4d2019-c598-4e08-a16d-3be40c4635e3",
   "metadata": {},
   "outputs": [],
   "source": [
    "# is indenttion required in python?\n",
    "# Ans:- Yes."
   ]
  },
  {
   "cell_type": "code",
   "execution_count": null,
   "id": "6acd316b-baf0-4203-975d-b2ac29a44bfc",
   "metadata": {},
   "outputs": [],
   "source": []
  }
 ],
 "metadata": {
  "kernelspec": {
   "display_name": "Python 3 (ipykernel)",
   "language": "python",
   "name": "python3"
  },
  "language_info": {
   "codemirror_mode": {
    "name": "ipython",
    "version": 3
   },
   "file_extension": ".py",
   "mimetype": "text/x-python",
   "name": "python",
   "nbconvert_exporter": "python",
   "pygments_lexer": "ipython3",
   "version": "3.10.8"
  }
 },
 "nbformat": 4,
 "nbformat_minor": 5
}
